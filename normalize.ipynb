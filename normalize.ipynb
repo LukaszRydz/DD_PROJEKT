{
 "cells": [
  {
   "cell_type": "code",
   "execution_count": null,
   "metadata": {},
   "outputs": [],
   "source": [
    "import pandas as pd\n",
    "from sklearn.preprocessing import MinMaxScaler\n",
    "import matplotlib.pyplot as plt\n",
    "\n",
    "# load data from CSV file\n",
    "clean_file_path = './data/diabetes_prediction_dataset_clean.csv'\n",
    "\n",
    "data = pd.read_csv(clean_file_path)"
   ]
  },
  {
   "cell_type": "code",
   "execution_count": null,
   "metadata": {},
   "outputs": [],
   "source": [
    "columns_to_normalize = ['blood_glucose_level', 'bmi']\n",
    "\n",
    "# MinMaxScaler Object\n",
    "scaler = MinMaxScaler()\n",
    "\n",
    "# Normalization\n",
    "data[columns_to_normalize] = scaler.fit_transform(data[columns_to_normalize])\n",
    "\n",
    "normalized_file_path = './data/diabetes_prediction_dataset_clean_normalized.csv'\n",
    "data.to_csv(normalized_file_path, index=False)"
   ]
  },
  {
   "cell_type": "code",
   "execution_count": null,
   "metadata": {},
   "outputs": [],
   "source": [
    "# list of numeric columns\n",
    "numeric_columns = data.select_dtypes(include=['number']).columns\n",
    "\n",
    "# number of columns and rows in the grid\n",
    "n_cols = 3                                                  # number of columns in the grid\n",
    "n_rows = (len(numeric_columns) + n_cols - 1) // n_cols      # number of rows in the grid\n",
    "\n",
    "# Create a grid of histograms\n",
    "fig, axs = plt.subplots(n_rows, n_cols, figsize=(5 * n_cols, 3 * n_rows))\n",
    "\n",
    "# Plot histograms\n",
    "for i, column in enumerate(numeric_columns):\n",
    "    ax = axs[i // n_cols, i % n_cols]\n",
    "    ax.hist(data[column].dropna(), bins=30, edgecolor='k', alpha=0.7)\n",
    "    ax.set_title(f'Histogram of {column}')\n",
    "    ax.set_xlabel(column)\n",
    "    ax.set_ylabel('Frequency')\n",
    "    ax.grid(True)\n",
    "\n",
    "# Remove empty subplots\n",
    "for j in range(i + 1, n_rows * n_cols):\n",
    "    fig.delaxes(axs[j // n_cols, j % n_cols])\n",
    "\n",
    "plt.tight_layout()\n",
    "plt.show()"
   ]
  }
 ],
 "metadata": {
  "kernelspec": {
   "display_name": "Python 3",
   "language": "python",
   "name": "python3"
  },
  "language_info": {
   "codemirror_mode": {
    "name": "ipython",
    "version": 3
   },
   "file_extension": ".py",
   "mimetype": "text/x-python",
   "name": "python",
   "nbconvert_exporter": "python",
   "pygments_lexer": "ipython3",
   "version": "3.12.3"
  }
 },
 "nbformat": 4,
 "nbformat_minor": 2
}
