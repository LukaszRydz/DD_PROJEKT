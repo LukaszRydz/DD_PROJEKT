{
 "cells": [
  {
   "cell_type": "markdown",
   "metadata": {},
   "source": [
    "<h1 style='color: red'>\n",
    "    Code block for downloading the dataset if it is not present in the files\n",
    "</h1>"
   ]
  },
  {
   "cell_type": "code",
   "execution_count": null,
   "metadata": {},
   "outputs": [],
   "source": [
    "import os\n",
    "from kaggle.api.kaggle_api_extended import KaggleApi\n",
    "\n",
    "# Dataset name on Kaggle\n",
    "dataset_name = 'diabetes_prediction_dataset'\n",
    "kaggle_data_set_name = 'iammustafatz/diabetes-prediction-dataset'\n",
    "\n",
    "# Path to data\n",
    "download_path = './data'\n",
    "\n",
    "def download_kaggle_csv_dataset(dataset, download_path):\n",
    "    os.makedirs(download_path, exist_ok=True)    \n",
    "    api = KaggleApi()\n",
    "    api.authenticate()\n",
    "    api.dataset_download_files(dataset, path=download_path, unzip=True)\n",
    "\n",
    "if not os.path.exists(download_path) or not os.path.exists(f'{download_path}/{dataset_name}'):\n",
    "    os.makedirs(download_path)\n",
    "    # Downloading data\n",
    "    download_kaggle_csv_dataset(kaggle_data_set_name, download_path)\n",
    "\n",
    "    print(f'Data has been downloaded to {download_path}/{dataset_name}')\n",
    "else:\n",
    "    print(f'Data already exists in {download_path}/{dataset_name}')"
   ]
  },
  {
   "cell_type": "markdown",
   "metadata": {},
   "source": [
    "<h1>\n",
    "    Preparation\n",
    "</h1>"
   ]
  },
  {
   "cell_type": "code",
   "execution_count": null,
   "metadata": {},
   "outputs": [],
   "source": [
    "import pandas as pd\n",
    "import matplotlib.pyplot as plt\n",
    "import seaborn as sns"
   ]
  },
  {
   "cell_type": "code",
   "execution_count": null,
   "metadata": {},
   "outputs": [],
   "source": [
    "file_path = './data/diabetes_prediction_dataset.csv'\n",
    "data = pd.read_csv(file_path)\n",
    "\n",
    "def save_cleaned_data(cleaned_file_path='./data/diabetes_prediction_dataset_clean.csv'):\n",
    "    data.to_csv(cleaned_file_path, index=False)\n",
    "    print(f'Data has been saved to file {cleaned_file_path}')"
   ]
  },
  {
   "cell_type": "code",
   "execution_count": null,
   "metadata": {},
   "outputs": [],
   "source": [
    "columns = data.columns\n",
    "\n",
    "n_cols = 3                                                  # Number of columns in grid\n",
    "n_rows = (len(columns) + n_cols - 1) // n_cols              # Number of rows in grid\n",
    "\n",
    "# Creating the plots grid\n",
    "fig, axs = plt.subplots(n_rows, n_cols, figsize=(5 * n_cols, 3 * n_rows))\n",
    "\n",
    "# Generating histograms for each column\n",
    "for i, column in enumerate(columns):\n",
    "    ax = axs[i // n_cols, i % n_cols]\n",
    "    ax.hist(data[column].dropna(), bins=30, edgecolor='k', alpha=0.7)\n",
    "    ax.set_title(f'Histogram of {column}')\n",
    "    ax.set_xlabel(column)\n",
    "    ax.set_ylabel('Frequency')\n",
    "    ax.grid(True)\n",
    "\n",
    "# Removing empty plots if they exist\n",
    "for j in range(i + 1, n_rows * n_cols):\n",
    "    fig.delaxes(axs[j // n_cols, j % n_cols])\n",
    "\n",
    "print('Original data histograms')\n",
    "\n",
    "plt.tight_layout()\n",
    "plt.show()\n",
    "\n",
    "\n",
    "plt.tight_layout()\n",
    "plt.show()"
   ]
  },
  {
   "cell_type": "markdown",
   "metadata": {},
   "source": [
    "<h1 style='color: gold'>\n",
    "    Feature Smoking\n",
    "</h1>"
   ]
  },
  {
   "cell_type": "markdown",
   "metadata": {},
   "source": [
    "<h2>\n",
    "    Conversion of the smoking_history feature to one-hot encoding\n",
    "</h2>"
   ]
  },
  {
   "cell_type": "code",
   "execution_count": null,
   "metadata": {},
   "outputs": [],
   "source": [
    "# Performing one-hot encoding for the 'smoking_history' column\n",
    "data = pd.get_dummies(data, columns=['smoking_history'], prefix='smoking')\n",
    "\n",
    "save_cleaned_data()"
   ]
  },
  {
   "cell_type": "markdown",
   "metadata": {},
   "source": [
    "<h3>\n",
    "    Removing rows where the value of the 'Smoking_No info' == True \n",
    "</h3>"
   ]
  },
  {
   "cell_type": "code",
   "execution_count": null,
   "metadata": {},
   "outputs": [],
   "source": [
    "# Removing rows where the value of the 'smoking_No Info' column is True\n",
    "data_filtered = data[data['smoking_No Info'] == False]\n",
    "data = data_filtered.drop(columns=['smoking_No Info'])\n",
    "\n",
    "save_cleaned_data()"
   ]
  },
  {
   "cell_type": "markdown",
   "metadata": {},
   "source": [
    "<h1 style='color: gold'>\n",
    "    Feature gender\n",
    "</h1>"
   ]
  },
  {
   "cell_type": "markdown",
   "metadata": {},
   "source": [
    "<h2>\n",
    "    Removing rows where the value of the gender_Other == True\n",
    "</h2>"
   ]
  },
  {
   "cell_type": "code",
   "execution_count": null,
   "metadata": {},
   "outputs": [],
   "source": [
    "# Removing rows where the value of the 'gender' column is 'Other'\n",
    "data = data[data['gender'] != 'Other']\n",
    "\n",
    "save_cleaned_data()"
   ]
  },
  {
   "cell_type": "markdown",
   "metadata": {},
   "source": [
    "<h2>\n",
    "    Splitting the gender feature into one-hot, because !(Female > Male) and vice versa\n",
    "</h2>"
   ]
  },
  {
   "cell_type": "code",
   "execution_count": null,
   "metadata": {},
   "outputs": [],
   "source": [
    "data = pd.get_dummies(data, columns=['gender'], prefix='gender')\n",
    "save_cleaned_data()"
   ]
  },
  {
   "cell_type": "markdown",
   "metadata": {},
   "source": [
    "<h1 style='color: gold'>\n",
    "    Feature age\n",
    "</h1>"
   ]
  },
  {
   "cell_type": "markdown",
   "metadata": {},
   "source": [
    "<h2>\n",
    "    Checking unique values in the age column and rounding them\n",
    "</h2>"
   ]
  },
  {
   "cell_type": "code",
   "execution_count": null,
   "metadata": {},
   "outputs": [],
   "source": [
    "# Dictionary for storing the counts of unique values\n",
    "unique_values_counts = {}\n",
    "\n",
    "# Unique values in the 'age' column and their counts\n",
    "for value in data['age'].unique():\n",
    "    count = data['age'].value_counts()[value]\n",
    "    unique_values_counts[value] = count\n",
    "\n",
    "print(\"Unique values in the 'age' column along with their counts:\")\n",
    "for value, count in unique_values_counts.items():\n",
    "    print(f\"{value}: {count}\")\n"
   ]
  },
  {
   "cell_type": "code",
   "execution_count": null,
   "metadata": {},
   "outputs": [],
   "source": [
    "data['age'] = data['age'].round().astype(int)\n",
    "save_cleaned_data()"
   ]
  },
  {
   "cell_type": "markdown",
   "metadata": {},
   "source": [
    "<h1 style='color: gold'>\n",
    "    Operations on the entire dataset\n",
    "</h1>"
   ]
  },
  {
   "cell_type": "markdown",
   "metadata": {},
   "source": [
    "<h2>\n",
    "    Finding and removing unnecessary duplicates\n",
    "</h2>"
   ]
  },
  {
   "cell_type": "code",
   "execution_count": null,
   "metadata": {},
   "outputs": [],
   "source": [
    "duplicate_rows = data.duplicated()\n",
    "data = data.drop_duplicates()\n",
    "\n",
    "save_cleaned_data()\n",
    "print(f'Removed duplicate rows: {duplicate_rows.sum()}')"
   ]
  },
  {
   "cell_type": "markdown",
   "metadata": {},
   "source": [
    "<h2>\n",
    "    Unique data.\n",
    "</h2>"
   ]
  },
  {
   "cell_type": "code",
   "execution_count": null,
   "metadata": {},
   "outputs": [],
   "source": [
    "for column in data.columns:\n",
    "    num_dist_values = data[column].nunique()\n",
    "    print(f'{column}: {num_dist_values} unique values')"
   ]
  },
  {
   "cell_type": "markdown",
   "metadata": {},
   "source": [
    "<h2>\n",
    "    Missing data\n",
    "</h2>"
   ]
  },
  {
   "cell_type": "code",
   "execution_count": null,
   "metadata": {},
   "outputs": [],
   "source": [
    "print(data.isnull().sum())"
   ]
  },
  {
   "cell_type": "markdown",
   "metadata": {},
   "source": [
    "<h2>\n",
    "    Basic statistics\n",
    "</h2>"
   ]
  },
  {
   "cell_type": "code",
   "execution_count": null,
   "metadata": {},
   "outputs": [],
   "source": [
    "data.describe()"
   ]
  },
  {
   "cell_type": "markdown",
   "metadata": {},
   "source": [
    "<h2>\n",
    "    Min - max difference\n",
    "</h2>"
   ]
  },
  {
   "cell_type": "code",
   "execution_count": null,
   "metadata": {},
   "outputs": [],
   "source": [
    "numeric_columns = data.select_dtypes(include=['number']).columns\n",
    "\n",
    "# Difference between min and max for each numeric column\n",
    "diff_min_max = data[numeric_columns].max() - data[numeric_columns].min()\n",
    "\n",
    "print(\"Difference between min and max for each column (excluding boolean values):\")\n",
    "print(diff_min_max)"
   ]
  }
 ],
 "metadata": {
  "kernelspec": {
   "display_name": "Python 3",
   "language": "python",
   "name": "python3"
  },
  "language_info": {
   "codemirror_mode": {
    "name": "ipython",
    "version": 3
   },
   "file_extension": ".py",
   "mimetype": "text/x-python",
   "name": "python",
   "nbconvert_exporter": "python",
   "pygments_lexer": "ipython3",
   "version": "3.12.3"
  }
 },
 "nbformat": 4,
 "nbformat_minor": 2
}
