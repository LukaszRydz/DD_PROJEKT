{
 "cells": [
  {
   "cell_type": "code",
   "execution_count": 1,
   "id": "bd5e74fc-7da3-4bf4-99e9-9554be07dcad",
   "metadata": {},
   "outputs": [],
   "source": [
    "# Libs\n",
    "import torch\n",
    "import pandas as pd\n",
    "from sklearn.model_selection import train_test_split\n",
    "from sklearn.preprocessing import StandardScaler\n",
    "from sklearn.ensemble import RandomForestClassifier\n",
    "from sklearn.metrics import accuracy_score, classification_report\n",
    "from datetime import datetime\n",
    "import json\n",
    "import os\n",
    "import joblib"
   ]
  },
  {
   "cell_type": "markdown",
   "id": "168eef12-1655-405b-8acc-f66ccbe6401b",
   "metadata": {},
   "source": [
    "<h1 style='color: gold'>\n",
    "    Variables\n",
    "</h1>"
   ]
  },
  {
   "cell_type": "code",
   "execution_count": 2,
   "id": "36138705-c8fa-4aa3-8026-1185ec0f7d25",
   "metadata": {},
   "outputs": [],
   "source": [
    "# default device name (auto-change when CUDA is available)\n",
    "device_name = 'cpu'\n",
    "# Data set name (used to load data and save data name in results)\n",
    "data_set_name = 'diabetes_prediction_dataset_clean_normalized'\n",
    "# Model name\n",
    "model_name = 'Random_forest_v1_normalized'\n",
    "\n",
    "# Model hyperparameters\n",
    "hyperparameters = {\n",
    "    'n_estimators': 100,\n",
    "    'random_state': 42\n",
    "}"
   ]
  },
  {
   "cell_type": "markdown",
   "id": "f22cc116-9fa6-489c-951d-2548d835c209",
   "metadata": {},
   "source": [
    "<h1 style='color: gold'>\n",
    "    Data Preparation\n",
    "</h1>"
   ]
  },
  {
   "cell_type": "code",
   "execution_count": 3,
   "id": "5ffcfa87-cd5c-459d-be38-3996dc653d28",
   "metadata": {},
   "outputs": [],
   "source": [
    "# Checking CUDA availability\n",
    "device = torch.device('cuda' if torch.cuda.is_available() else 'cpu')\n",
    "if str(device) == 'cuda': device_name = torch.cuda.get_device_name(0)\n",
    "\n",
    "# Loading data\n",
    "data = pd.read_csv(f'./data/{data_set_name}.csv')\n",
    "\n",
    "# Splitting into features and labels\n",
    "X = data.drop('diabetes', axis=1)  # features\n",
    "y = data['diabetes']  # label\n",
    "\n",
    "# Splitting into training and testing sets\n",
    "X_train, X_test, y_train, y_test = train_test_split(X, y, test_size=0.2, random_state=42)\n",
    "\n",
    "# Feature scaling (optional but recommended for Random Forest)\n",
    "scaler = StandardScaler()\n",
    "X_train = scaler.fit_transform(X_train)\n",
    "X_test = scaler.transform(X_test)\n",
    "\n",
    "# Moving data to GPU\n",
    "X_train_tensor = torch.tensor(X_train, dtype=torch.float32).to(device)\n",
    "y_train_tensor = torch.tensor(y_train.values, dtype=torch.float32).to(device)\n",
    "X_test_tensor = torch.tensor(X_test, dtype=torch.float32).to(device)"
   ]
  },
  {
   "cell_type": "markdown",
   "id": "d94b7531-cdd0-4da3-95ee-36c86a6957df",
   "metadata": {},
   "source": [
    "<h1 style='color: gold'>\n",
    "    Functions for Saving Model and Training History\n",
    "</h1>"
   ]
  },
  {
   "cell_type": "code",
   "execution_count": 4,
   "id": "59d9b0ae-dc00-46ac-ac50-1685668982a2",
   "metadata": {},
   "outputs": [],
   "source": [
    "# Function to save results\n",
    "def save_results(results, model_name, save_dir='results'):\n",
    "    if not os.path.exists(save_dir):\n",
    "        os.makedirs(save_dir)\n",
    "    \n",
    "    now = datetime.now()\n",
    "    timestamp = now.strftime('%Y-%m-%d_%H-%M-%S')\n",
    "    filename = f'{model_name}_{timestamp}.json'\n",
    "    filepath = os.path.join(save_dir, filename)\n",
    "\n",
    "    with open(filepath, 'w') as f:\n",
    "        json.dump(results, f, indent=4)\n",
    "\n",
    "# Function to save model\n",
    "def save_model(model, model_name):\n",
    "    model_dir = './models'\n",
    "    if not os.path.exists(model_dir):\n",
    "        os.makedirs(model_dir)\n",
    "    \n",
    "    now = datetime.now()\n",
    "    timestamp = now.strftime('%Y-%m-%d_%H-%M-%S')\n",
    "    filename = f'{model_name}_{timestamp}.joblib'\n",
    "    filepath = os.path.join(model_dir, filename)\n",
    "\n",
    "    joblib.dump(model, filepath)\n",
    "    print(f'Model saved successfully as {filename}')"
   ]
  },
  {
   "cell_type": "markdown",
   "id": "5f0da031-bb44-4d7f-aad7-f3d125c91b62",
   "metadata": {},
   "source": [
    "<h1 style='color: gold'>\n",
    "    Random Forest Model Implementation\n",
    "</h1>"
   ]
  },
  {
   "cell_type": "code",
   "execution_count": 5,
   "id": "a17ecbbe-63ff-4089-92bd-2bb9c526e1cd",
   "metadata": {},
   "outputs": [
    {
     "name": "stdout",
     "output_type": "stream",
     "text": [
      "Training started at 2024-06-14 18:05:41.264663\n",
      "Training finished at 2024-06-14 18:05:44.343189\n",
      "Training duration: 0:00:03.078526\n",
      "Accuracy: 0.9603130682267373\n",
      "              precision    recall  f1-score   support\n",
      "\n",
      "           0       0.96      0.99      0.98     11285\n",
      "           1       0.94      0.68      0.79      1364\n",
      "\n",
      "    accuracy                           0.96     12649\n",
      "   macro avg       0.95      0.84      0.88     12649\n",
      "weighted avg       0.96      0.96      0.96     12649\n",
      "\n"
     ]
    }
   ],
   "source": [
    "# Training start\n",
    "start_time = datetime.now()\n",
    "print(f'Training started at {start_time}')\n",
    "\n",
    "# Initializing Random Forest model in scikit-learn\n",
    "rf_model = RandomForestClassifier(**hyperparameters)\n",
    "\n",
    "# Training model on GPU\n",
    "rf_model.fit(X_train, y_train)\n",
    "\n",
    "# Training end\n",
    "end_time = datetime.now()\n",
    "print(f'Training finished at {end_time}')\n",
    "total_time = end_time - start_time\n",
    "print(f'Training duration: {total_time}')\n",
    "\n",
    "# Predicting on test set\n",
    "predictions = rf_model.predict(X_test)\n",
    "\n",
    "# Evaluating model\n",
    "accuracy = accuracy_score(y_test, predictions)\n",
    "print(f'Accuracy: {accuracy}')\n",
    "\n",
    "# Classification report\n",
    "report = classification_report(y_test, predictions, output_dict=True)\n",
    "print(classification_report(y_test, predictions))"
   ]
  },
  {
   "cell_type": "markdown",
   "id": "5fb49b80-2c60-4fa1-88d5-ca1515e45a68",
   "metadata": {},
   "source": [
    "<h1 style='color: gold'>\n",
    "    Saving Results and Model\n",
    "</h1>"
   ]
  },
  {
   "cell_type": "code",
   "execution_count": 6,
   "id": "2ec2fa46-4723-4f64-b6ae-d8287f136560",
   "metadata": {},
   "outputs": [
    {
     "name": "stdout",
     "output_type": "stream",
     "text": [
      "Model saved successfully as Random_forest_v1_normalized_2024-06-14_18-05-44.joblib\n"
     ]
    }
   ],
   "source": [
    "# Saving training results\n",
    "results = {\n",
    "    'model_name': model_name,\n",
    "    'data_set_name': data_set_name,\n",
    "    'hyperparameters': hyperparameters,\n",
    "    'training_start_time': start_time.strftime('%Y-%m-%d %H:%M:%S'),\n",
    "    'training_end_time': end_time.strftime('%Y-%m-%d %H:%M:%S'),\n",
    "    'total_training_time': str(total_time),\n",
    "    'accuracy': accuracy,\n",
    "    'classification_report': report,\n",
    "    'device': device_name\n",
    "}\n",
    "\n",
    "# Saving model\n",
    "save_results(results, model_name)\n",
    "save_model(rf_model, model_name)"
   ]
  }
 ],
 "metadata": {
  "kernelspec": {
   "display_name": "Python 3 (ipykernel)",
   "language": "python",
   "name": "python3"
  },
  "language_info": {
   "codemirror_mode": {
    "name": "ipython",
    "version": 3
   },
   "file_extension": ".py",
   "mimetype": "text/x-python",
   "name": "python",
   "nbconvert_exporter": "python",
   "pygments_lexer": "ipython3",
   "version": "3.10.12"
  }
 },
 "nbformat": 4,
 "nbformat_minor": 5
}
