{
 "cells": [
  {
   "cell_type": "code",
   "execution_count": null,
   "metadata": {},
   "outputs": [],
   "source": [
    "import pandas as pd\n",
    "import matplotlib.pyplot as plt\n",
    "import seaborn as sns"
   ]
  },
  {
   "cell_type": "code",
   "execution_count": null,
   "metadata": {},
   "outputs": [],
   "source": [
    "# load data from csv file\n",
    "clean_file_path = './data/diabetes_prediction_dataset_clean.csv'\n",
    "original_file_path = './data/diabetes_prediction_dataset.csv'\n",
    "\n",
    "data = pd.read_csv(clean_file_path)\n",
    "original_data = pd.read_csv(original_file_path)"
   ]
  },
  {
   "cell_type": "markdown",
   "metadata": {},
   "source": [
    "<h1 style='color: gold'>\n",
    "    Differences in datasets\n",
    "</h1>"
   ]
  },
  {
   "cell_type": "code",
   "execution_count": null,
   "metadata": {},
   "outputs": [],
   "source": [
    "# Difference between original and cleaned data\n",
    "\n",
    "print(f'Removed {len(original_data) - len(data)} rows out of {len(original_data)} leaving {len(data)}.')\n",
    "\n",
    "clean_columns = set(data.columns)\n",
    "original_columns = set(original_data.columns)\n",
    "\n",
    "extra_columns = clean_columns - original_columns\n",
    "missing_columns = original_columns - clean_columns\n",
    "\n",
    "print(\"\\nAdditional columns after cleaning:\", extra_columns)\n",
    "print(\"Missing columns after cleaning:\", missing_columns)"
   ]
  },
  {
   "cell_type": "markdown",
   "metadata": {},
   "source": [
    "<h1 style='color: gold'>\n",
    "    Basic data info\n",
    "</h1>"
   ]
  },
  {
   "cell_type": "code",
   "execution_count": null,
   "metadata": {},
   "outputs": [],
   "source": [
    "data.describe()"
   ]
  },
  {
   "cell_type": "markdown",
   "metadata": {},
   "source": [
    "<h1 style='color: gold'>\n",
    "    Histograms\n",
    "</h1>"
   ]
  },
  {
   "cell_type": "code",
   "execution_count": null,
   "metadata": {},
   "outputs": [],
   "source": [
    "# List of numeric columns\n",
    "numeric_columns = data.select_dtypes(include=['number']).columns\n",
    "\n",
    "# Number of rows and columns for the plot grid\n",
    "n_cols = 3                                                  # Number of columns in grid\n",
    "n_rows = (len(numeric_columns) + n_cols - 1) // n_cols      # Number of rows in grid\n",
    "\n",
    "# Creating the plot grid\n",
    "fig, axs = plt.subplots(n_rows, n_cols, figsize=(5 * n_cols, 3 * n_rows))\n",
    "\n",
    "# Generating histograms for each numeric column\n",
    "for i, column in enumerate(numeric_columns):\n",
    "    ax = axs[i // n_cols, i % n_cols]\n",
    "    ax.hist(data[column].dropna(), bins=30, edgecolor='k', alpha=0.7)\n",
    "    ax.set_title(f'Histogram of {column}')\n",
    "    ax.set_xlabel(column)\n",
    "    ax.set_ylabel('Frequency')\n",
    "    ax.grid(True)\n",
    "\n",
    "# Removing empty plots if they exist\n",
    "for j in range(i + 1, n_rows * n_cols):\n",
    "    fig.delaxes(axs[j // n_cols, j % n_cols])\n",
    "\n",
    "plt.tight_layout()\n",
    "plt.show()"
   ]
  },
  {
   "cell_type": "markdown",
   "metadata": {},
   "source": [
    "<h1 style='color: gold'>\n",
    "    Histograms for one-hot features\n",
    "</h1>"
   ]
  },
  {
   "cell_type": "code",
   "execution_count": null,
   "metadata": {},
   "outputs": [],
   "source": [
    "data_numeric = data.select_dtypes(include=['bool']).astype(int)\n",
    "\n",
    "n_cols = 3\n",
    "n_rows = (len(data_numeric.columns) + n_cols - 1) // n_cols\n",
    "\n",
    "# Creating the plot grid\n",
    "fig, axs = plt.subplots(n_rows, n_cols, figsize=(5 * n_cols, 3 * n_rows))\n",
    "\n",
    "# Generating histograms for each boolean column\n",
    "for i, column in enumerate(data_numeric.columns):\n",
    "    ax = axs[i // n_cols, i % n_cols]\n",
    "    ax.hist(data_numeric[column], bins=2, edgecolor='k', alpha=0.7)\n",
    "    ax.set_title(f'Histogram of {column}')\n",
    "    ax.set_xlabel(column)\n",
    "    ax.set_ylabel('Frequency')\n",
    "    ax.set_xticks([0, 1])\n",
    "    ax.set_xticklabels(['False', 'True'])\n",
    "    ax.grid(True)\n",
    "\n",
    "for j in range(i + 1, n_rows * n_cols):\n",
    "    fig.delaxes(axs[j // n_cols, j % n_cols])\n",
    "\n",
    "plt.tight_layout()\n",
    "plt.show()"
   ]
  },
  {
   "cell_type": "markdown",
   "metadata": {},
   "source": [
    "<h1 style='color: gold'>\n",
    "    Correlation matrix\n",
    "</h1>"
   ]
  },
  {
   "cell_type": "code",
   "execution_count": null,
   "metadata": {},
   "outputs": [],
   "source": [
    "correlation_matrix = data.corr()\n",
    "\n",
    "plt.figure(figsize=(12, 8))\n",
    "sns.heatmap(correlation_matrix, annot=True, cmap='coolwarm', fmt=\".2f\")\n",
    "plt.title('Correlation matrix')\n",
    "plt.show()"
   ]
  },
  {
   "cell_type": "markdown",
   "metadata": {},
   "source": [
    "<h1 style='color: gold'>\n",
    "    Analysis of two features\n",
    "</h1>"
   ]
  },
  {
   "cell_type": "code",
   "execution_count": null,
   "metadata": {},
   "outputs": [],
   "source": [
    "fig, axs = plt.subplots(2, 2, figsize=(6, 5))\n",
    "\n",
    "sns.boxplot(x='diabetes', y='bmi', data=data, ax=axs[0, 0])\n",
    "axs[0, 0].set_title('BMI vs Diabetes')\n",
    "\n",
    "sns.boxplot(x='diabetes', y='age', data=data, ax=axs[0, 1])\n",
    "axs[0, 1].set_title('Age vs Diabetes')\n",
    "\n",
    "sns.boxplot(x='diabetes', y='HbA1c_level', data=data, ax=axs[1, 0])\n",
    "axs[1, 0].set_title('HbA1c level vs Diabetes')\n",
    "\n",
    "sns.boxplot(x='diabetes', y='blood_glucose_level', data=data, ax=axs[1, 1])\n",
    "axs[1, 1].set_title('Blood Glucose Level vs Diabetes')\n",
    "\n",
    "plt.tight_layout()\n",
    "plt.show()\n"
   ]
  },
  {
   "cell_type": "code",
   "execution_count": null,
   "metadata": {},
   "outputs": [],
   "source": [
    "plt.figure(figsize=(4, 3))\n",
    "\n",
    "sns.countplot(x='gender_Male', hue='diabetes', data=data)\n",
    "\n",
    "plt.title('Gender vs Diabetes')\n",
    "plt.xlabel('Gender (Male)')\n",
    "plt.ylabel('Count')\n",
    "\n",
    "plt.legend(title='Diabetes', labels=['No', 'Yes'])\n",
    "\n",
    "plt.show()"
   ]
  },
  {
   "cell_type": "code",
   "execution_count": null,
   "metadata": {},
   "outputs": [],
   "source": [
    "sns.pairplot(data, hue='diabetes')\n",
    "plt.show()"
   ]
  }
 ],
 "metadata": {
  "kernelspec": {
   "display_name": "Python 3",
   "language": "python",
   "name": "python3"
  },
  "language_info": {
   "codemirror_mode": {
    "name": "ipython",
    "version": 3
   },
   "file_extension": ".py",
   "mimetype": "text/x-python",
   "name": "python",
   "nbconvert_exporter": "python",
   "pygments_lexer": "ipython3",
   "version": "3.12.3"
  }
 },
 "nbformat": 4,
 "nbformat_minor": 2
}
